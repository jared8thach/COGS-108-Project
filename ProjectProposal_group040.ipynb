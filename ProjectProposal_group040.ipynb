{
 "cells": [
  {
   "cell_type": "markdown",
   "metadata": {},
   "source": [
    "# COGS 108 - Final Project Proposal"
   ]
  },
  {
   "cell_type": "markdown",
   "metadata": {},
   "source": [
    "# Names\n",
    "\n",
    "- Shawn Oh\n",
    "- Jessie Liang\n",
    "- Kenzie Nguyen\n",
    "- Jared Thach"
   ]
  },
  {
   "cell_type": "markdown",
   "metadata": {},
   "source": [
    "# Research Question\n",
    "Are scores of legal systems & property rights, freedom to trade internationally, and regulation of a country associated with its economic productivity, namely its GDP (Gross Domestic Product)?"
   ]
  },
  {
   "cell_type": "markdown",
   "metadata": {},
   "source": [
    "# Background and Prior Work\n",
    "The world has changed in previously unimaginable ways over just the past decade. In acknowledging and attempting to look beyond that, it then becomes clear just how unfathomable the nature of the world's history really is. That however does not mean it cannot be learned from, and this very sentiment is what is really at the core of this project. Our aim is to better understand the trends that played out over the past 50 years by analyzing summary statistics regarding their productivity and the circumstances surrounding that. \n",
    "\n",
    "**(Note: We have 2 datasets as of the project proposal.)** \n",
    "This project will be relying on 2 datasets (for now at least), the first of which is from the Long Term Productivity Database [1]. The Long Term Productivity dataset provides summary statistics regarding the productivity of 23 countries going all the way back to the 1890s. (These 23 countries are the focus of this project for now.) Supplementing this will be the Fraser Institute's Economic Freedom of the World dataset [2], which contains ratings for the governmental and economic factors, which can be tied to each country's productivity.\n",
    "\n",
    "Analysis of these datasets alone will not be sufficient since the data being used does not reflect any historical context itself. Realizing this then, any conclusion reached will have to be sup\n",
    "\n",
    "\n",
    "***\n",
    "## **References**\n",
    "- 1) **Fraser Institute - Economic Freedom (Approach):** https://www.fraserinstitute.org/economic-freedom/approach\n",
    "- 2) **Long Term Productivity Database (Related Articles):**\n",
    "http://longtermproductivity.com/post.html"
   ]
  },
  {
   "cell_type": "markdown",
   "metadata": {},
   "source": [
    "# Hypothesis\n",
    "Our hypothesis is that the stricter a government's economic policies, the lower the country's overall GDP will be. This follows the basic intuition of free-market economies where less government involvement will allow for individual businesses to perform optimally."
   ]
  },
  {
   "cell_type": "markdown",
   "metadata": {},
   "source": [
    "# Data\n",
    "*Explain what the ideal dataset you would want to answer this question. (This should include: What variables? How many observations? Who/what/how would these data be collected? How would these data be stored/organized?)*\n",
    "\n",
    "## Sources\n",
    "\n",
    "- 1) **Long Term Productivity Database (Data):**\n",
    "http://longtermproductivity.com/download.html\n",
    "\n",
    "- 2) **Fraser Institute - Economic Freedom of the World(Data):** https://www.fraserinstitute.org/economic-freedom/dataset?geozone=world&page=dataset&min-year=2&max-year=0&filter=0&year=2018\n",
    "\n",
    "## What We'd Like To Do With the Data\n",
    "In the Economic Freedom of the World dataset, the Fraser Institute measures 166 countries' \"economic freedom\" based on 5 key areas, which aggregations of related aspects. We would like analyze the trends of the variables below, along with the productivity statistics provided in the Long Term Productivity dataset. Using these two datasets in conjunction with each other would allow us to learn about which factors are most correlated, and most important to economic productivity.\n",
    "\n",
    "**Variables** (only listed the ones we're interested in)\n",
    "\n",
    "- 1) Size of Government\n",
    "    - B. Transfers and subsidies\n",
    "    - E. State ownership of assets\n",
    "- 2) Legal Protection and Property Rights\n",
    "    - C. Protection of property rights\n",
    "    - D. Military interference in rule of law and politics\n",
    "    - I. Business costs of crime\n",
    "- 3) Sound Money\n",
    "    - A. Money growth\n",
    "    - D. Freedom to own foreign currency bank accounts\n",
    "- 4) Freedom to Trade Internationally\n",
    "    - A. Tariffs\n",
    "    - B. Regulatory trade barriers\n",
    "    - D. Controls of the movement of capital and people\n",
    "- 5) Regulation\n",
    "    - B. Labor market regulations\n",
    "    - C. Business regulations\n",
    "    \n",
    "## Other Considerations\n",
    "- Using these two datasets alone is nowhere near enough because doing so would be ignoring the historical contexts from which these arose. To remedy this, we'll narrow our scope to the countries for which there are data in the Long Term Productivity dataset, and do general research surrounding their histories.\n",
    "- The datasets are already clean, and what we most want to focus on is getting practice working with data.\n",
    "    - Exploratory Data Analysis (EDA)\n",
    "    - Combining different datasets\n",
    "    - Looking for correlation\n",
    "    - Clustering\n",
    "    - Doing analyses on the same data from different perspectives"
   ]
  },
  {
   "cell_type": "markdown",
   "metadata": {},
   "source": [
    "# Ethics & Privacy\n",
    "The information present in the datasets we have found seem to all be sourced/aggregated from a number of different sources from the past. Since our data is broad data about entire countries, there is no need for personal privacy for individual data.\n",
    "\n",
    "## The Datasets' Collection Methodologies\n",
    "- 1) **Fraser Institute:** https://www.fraserinstitute.org/sites/default/files/economic-freedom-of-the-world-2019-appendix.pdf\n",
    "- 2) **Long-Term Productivity Database:** http://longtermproductivity.com/index.html"
   ]
  },
  {
   "cell_type": "markdown",
   "metadata": {},
   "source": [
    "# Team Expectations \n",
    "* *Team Expectation 1*: Everyone perform their equal share of work.\n",
    "* *Team Expectation 2*: Everyone contribute to some data cleaning, data wrangling, and EDA.\n",
    "* *Team Expectation 3*: Everyone meet on time!!!!1!1!"
   ]
  },
  {
   "cell_type": "markdown",
   "metadata": {},
   "source": [
    "# Project Timeline Proposal\n",
    "\n",
    "| Meeting Date  | Meeting Time | TO-DO  | Discuss at Meeting |\n",
    "|---|---|---|---|\n",
    "| 2/3 Wed | 5 PM  | work together | - |\n",
    "| 2/6 Sat | 5 PM  | Search for datasets, download and import datasets  | Discuss Wrangling and possible analytical approaches; Assign group members to lead each specific part   |\n",
    "| 2/10 Wed | 5 PM  | work together | - |\n",
    "| 2/13 Sat | 5 PM  | Clean and Wrangle Data (Shawn); EDA (Jessie) | Review cleaned dataset, check for null values and anomalous data   |\n",
    "| 2/17 Wed | 5 PM  | work together | - |\n",
    "| 2/20 Sat | 5 PM  | Clean and Wrangle Data (Kenzie); EDA (Jared) | Review cleaned dataset, check for null values and anomalous data   |\n",
    "| 2/24 Wed | 5 PM  | work together | - |\n",
    "| 2/27 Sat | 5 PM  | Finish Wrangling Data, EDA (Everyone); Begin Analysis (Everyone) | Discuss/edit Analysis; Complete project check-in |\n",
    "| 3/03 Wed | 5 PM  | work together | - |\n",
    "| 3/07 Sat | 5 PM  | Continue analysis (everyone) | Discuss/edit Analysis; Complete project check-in |\n",
    "| 3/10 Wed | 5 PM  | work together | - |\n",
    "| 3/14 Sat | 5 PM  | Complete analysis; Draft results/conclusion/discussion (Everyone)| Edit and proof-read finished project |\n",
    "| 3/19 Fri | 5 PM  | - | Turn in Final Project & Group Project Surveys |"
   ]
  }
 ],
 "metadata": {
  "kernelspec": {
   "display_name": "Python 3",
   "language": "python",
   "name": "python3"
  },
  "language_info": {
   "codemirror_mode": {
    "name": "ipython",
    "version": 3
   },
   "file_extension": ".py",
   "mimetype": "text/x-python",
   "name": "python",
   "nbconvert_exporter": "python",
   "pygments_lexer": "ipython3",
   "version": "3.7.6"
  }
 },
 "nbformat": 4,
 "nbformat_minor": 4
}
